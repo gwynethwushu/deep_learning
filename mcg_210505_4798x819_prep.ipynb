{
 "cells": [
  {
   "cell_type": "code",
   "execution_count": 1,
   "metadata": {},
   "outputs": [],
   "source": [
    "import scanpy as sc\n",
    "import numpy as np\n",
    "import pandas as pd\n",
    "import warnings\n",
    "warnings.filterwarnings(\"ignore\")\n",
    "import anndata as ad\n",
    "import seaborn as sns\n",
    "import matplotlib.pyplot as plt\n",
    "plt.rcParams[\"figure.figsize\"] = (4, 4)\n",
    "import pyarrow"
   ]
  },
  {
   "cell_type": "code",
   "execution_count": 2,
   "metadata": {},
   "outputs": [],
   "source": [
    "# read in methylated gene body cytosine counts\n",
    "countsdata = sc.read_h5ad('/u/project/jflint/heffel/BICAN3/210505/mcg_210505_raw_genebody_blacklist_counts.h5ad')\n",
    "\n",
    "# read in gene body cytosine coverage\n",
    "covdata = sc.read_h5ad('/u/project/jflint/heffel/BICAN3/210505/mcg_210505_raw_genebody_blacklist_coverage.h5ad')"
   ]
  },
  {
   "cell_type": "code",
   "execution_count": 3,
   "metadata": {},
   "outputs": [
    {
     "data": {
      "text/plain": [
       "(5618, 53100)"
      ]
     },
     "execution_count": 3,
     "metadata": {},
     "output_type": "execute_result"
    }
   ],
   "source": [
    "covdata.shape"
   ]
  },
  {
   "cell_type": "code",
   "execution_count": 4,
   "metadata": {},
   "outputs": [
    {
     "data": {
      "text/plain": [
       "True"
      ]
     },
     "execution_count": 4,
     "metadata": {},
     "output_type": "execute_result"
    }
   ],
   "source": [
    "countsdata.shape == covdata.shape"
   ]
  },
  {
   "cell_type": "code",
   "execution_count": 5,
   "metadata": {},
   "outputs": [
    {
     "data": {
      "text/plain": [
       "np.True_"
      ]
     },
     "execution_count": 5,
     "metadata": {},
     "output_type": "execute_result"
    }
   ],
   "source": [
    "(countsdata.obs.index == covdata.obs.index).all()"
   ]
  },
  {
   "cell_type": "code",
   "execution_count": 6,
   "metadata": {},
   "outputs": [
    {
     "data": {
      "text/plain": [
       "np.True_"
      ]
     },
     "execution_count": 6,
     "metadata": {},
     "output_type": "execute_result"
    }
   ],
   "source": [
    "(countsdata.var.index == covdata.var.index).all()"
   ]
  },
  {
   "cell_type": "code",
   "execution_count": 7,
   "metadata": {},
   "outputs": [],
   "source": [
    "# create readable gene ID's (ie: FAM41C as opposed to ENSG00000230368.2)\n",
    "conv_table = pd.read_csv(\"/u/project/cluo/heffel/BICAN/ensg_to_symbol.tsv\", \n",
    "                         sep=\"\\\\t\").set_index(\"ENSG\").to_dict()[\"Symbol\"] # read in csv file\n",
    "\n",
    "# copy gene ID's to both AnnData objects\n",
    "covdata.var.index = covdata.var.index.map(lambda x: conv_table.get(x, x))\n",
    "countsdata.var.index = countsdata.var.index.map(lambda x: conv_table.get(x, x))"
   ]
  },
  {
   "cell_type": "code",
   "execution_count": 8,
   "metadata": {},
   "outputs": [
    {
     "data": {
      "text/plain": [
       "12"
      ]
     },
     "execution_count": 8,
     "metadata": {},
     "output_type": "execute_result"
    }
   ],
   "source": [
    "len(\".allc.tsv.gz\") # check length"
   ]
  },
  {
   "cell_type": "code",
   "execution_count": 9,
   "metadata": {},
   "outputs": [],
   "source": [
    "# truncate (\".allc.tsv.gz\") from cells\n",
    "countsdata.obs.index = [i[:-12] for i in countsdata.obs.index]\n",
    "covdata.obs.index = [i[:-12] for i in covdata.obs.index]"
   ]
  },
  {
   "cell_type": "code",
   "execution_count": 10,
   "metadata": {},
   "outputs": [],
   "source": [
    "countsdata.write_h5ad(\"mcg_210505_raw_genebody_blacklist_counts.h5ad\")\n",
    "covdata.write_h5ad(\"mcg_210505_raw_genebody_blacklist_coverage.h5ad\")"
   ]
  },
  {
   "cell_type": "code",
   "execution_count": null,
   "metadata": {},
   "outputs": [],
   "source": []
  }
 ],
 "metadata": {
  "kernelspec": {
   "display_name": "sctorch_env",
   "language": "python",
   "name": "sctorch_env"
  },
  "language_info": {
   "codemirror_mode": {
    "name": "ipython",
    "version": 3
   },
   "file_extension": ".py",
   "mimetype": "text/x-python",
   "name": "python",
   "nbconvert_exporter": "python",
   "pygments_lexer": "ipython3",
   "version": "3.11.13"
  }
 },
 "nbformat": 4,
 "nbformat_minor": 4
}
