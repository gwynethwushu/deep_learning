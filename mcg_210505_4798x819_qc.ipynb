{
 "cells": [
  {
   "cell_type": "code",
   "execution_count": 1,
   "metadata": {},
   "outputs": [],
   "source": [
    "import scanpy as sc\n",
    "import numpy as np\n",
    "import pandas as pd\n",
    "import warnings\n",
    "warnings.filterwarnings(\"ignore\")\n",
    "import anndata as ad\n",
    "import seaborn as sns\n",
    "import matplotlib.pyplot as plt\n",
    "plt.rcParams[\"figure.figsize\"] = (4, 4)\n",
    "import pyarrow"
   ]
  },
  {
   "cell_type": "code",
   "execution_count": 2,
   "metadata": {},
   "outputs": [],
   "source": [
    "# read in methylated gene body cytosine counts\n",
    "countsdata = sc.read_h5ad(\"mcg_210505_raw_genebody_blacklist_counts.h5ad\")\n",
    "\n",
    "# read in gene body cytosine coverage\n",
    "covdata = sc.read_h5ad(\"mcg_210505_raw_genebody_blacklist_coverage.h5ad\")"
   ]
  },
  {
   "cell_type": "code",
   "execution_count": 3,
   "metadata": {},
   "outputs": [
    {
     "data": {
      "text/html": [
       "<div>\n",
       "<style scoped>\n",
       "    .dataframe tbody tr th:only-of-type {\n",
       "        vertical-align: middle;\n",
       "    }\n",
       "\n",
       "    .dataframe tbody tr th {\n",
       "        vertical-align: top;\n",
       "    }\n",
       "\n",
       "    .dataframe thead th {\n",
       "        text-align: right;\n",
       "    }\n",
       "</style>\n",
       "<table border=\"1\" class=\"dataframe\">\n",
       "  <thead>\n",
       "    <tr style=\"text-align: right;\">\n",
       "      <th>geneslop2k</th>\n",
       "      <th>ENSG00000228794.12</th>\n",
       "      <th>FAM41C</th>\n",
       "      <th>ENSG00000283040</th>\n",
       "      <th>ENSG00000272438</th>\n",
       "      <th>ENSG00000230699</th>\n",
       "      <th>ENSG00000241180</th>\n",
       "      <th>LINC02593</th>\n",
       "      <th>SAMD11</th>\n",
       "      <th>NOC2L</th>\n",
       "      <th>KLHL17</th>\n",
       "      <th>...</th>\n",
       "      <th>MAPK8IP2</th>\n",
       "      <th>ARSA</th>\n",
       "      <th>ENSG00000289244.2</th>\n",
       "      <th>Y_RNA</th>\n",
       "      <th>ENSG00000286508</th>\n",
       "      <th>SHANK3</th>\n",
       "      <th>RNU6-409P</th>\n",
       "      <th>ENSG00000225929</th>\n",
       "      <th>ACR</th>\n",
       "      <th>ENSG00000254499</th>\n",
       "    </tr>\n",
       "  </thead>\n",
       "  <tbody>\n",
       "    <tr>\n",
       "      <th>20210505-UMB5577-preAb-PFC-A09-L1_A1</th>\n",
       "      <td>0</td>\n",
       "      <td>0</td>\n",
       "      <td>0</td>\n",
       "      <td>11</td>\n",
       "      <td>2</td>\n",
       "      <td>2</td>\n",
       "      <td>0</td>\n",
       "      <td>14</td>\n",
       "      <td>12</td>\n",
       "      <td>3</td>\n",
       "      <td>...</td>\n",
       "      <td>21</td>\n",
       "      <td>0</td>\n",
       "      <td>5</td>\n",
       "      <td>0</td>\n",
       "      <td>0</td>\n",
       "      <td>32</td>\n",
       "      <td>0</td>\n",
       "      <td>8</td>\n",
       "      <td>8</td>\n",
       "      <td>8</td>\n",
       "    </tr>\n",
       "  </tbody>\n",
       "</table>\n",
       "<p>1 rows × 53100 columns</p>\n",
       "</div>"
      ],
      "text/plain": [
       "geneslop2k                            ENSG00000228794.12  FAM41C  \\\n",
       "20210505-UMB5577-preAb-PFC-A09-L1_A1                   0       0   \n",
       "\n",
       "geneslop2k                            ENSG00000283040  ENSG00000272438  \\\n",
       "20210505-UMB5577-preAb-PFC-A09-L1_A1                0               11   \n",
       "\n",
       "geneslop2k                            ENSG00000230699  ENSG00000241180  \\\n",
       "20210505-UMB5577-preAb-PFC-A09-L1_A1                2                2   \n",
       "\n",
       "geneslop2k                            LINC02593  SAMD11  NOC2L  KLHL17  ...  \\\n",
       "20210505-UMB5577-preAb-PFC-A09-L1_A1          0      14     12       3  ...   \n",
       "\n",
       "geneslop2k                            MAPK8IP2  ARSA  ENSG00000289244.2  \\\n",
       "20210505-UMB5577-preAb-PFC-A09-L1_A1        21     0                  5   \n",
       "\n",
       "geneslop2k                            Y_RNA  ENSG00000286508  SHANK3  \\\n",
       "20210505-UMB5577-preAb-PFC-A09-L1_A1      0                0      32   \n",
       "\n",
       "geneslop2k                            RNU6-409P  ENSG00000225929  ACR  \\\n",
       "20210505-UMB5577-preAb-PFC-A09-L1_A1          0                8    8   \n",
       "\n",
       "geneslop2k                            ENSG00000254499  \n",
       "20210505-UMB5577-preAb-PFC-A09-L1_A1                8  \n",
       "\n",
       "[1 rows x 53100 columns]"
      ]
     },
     "execution_count": 3,
     "metadata": {},
     "output_type": "execute_result"
    }
   ],
   "source": [
    "countsdf = countsdata.to_df() # turn countsdata AnnData obj into a pandas DataFrame\n",
    "covdf = covdata.to_df() # turn covdata AnnData obj into a df\n",
    "covdf.head(1)"
   ]
  },
  {
   "cell_type": "markdown",
   "metadata": {},
   "source": [
    "## filter cells with no cell type"
   ]
  },
  {
   "cell_type": "code",
   "execution_count": 4,
   "metadata": {},
   "outputs": [
    {
     "data": {
      "text/html": [
       "<div>\n",
       "<style scoped>\n",
       "    .dataframe tbody tr th:only-of-type {\n",
       "        vertical-align: middle;\n",
       "    }\n",
       "\n",
       "    .dataframe tbody tr th {\n",
       "        vertical-align: top;\n",
       "    }\n",
       "\n",
       "    .dataframe thead th {\n",
       "        text-align: right;\n",
       "    }\n",
       "</style>\n",
       "<table border=\"1\" class=\"dataframe\">\n",
       "  <thead>\n",
       "    <tr style=\"text-align: right;\">\n",
       "      <th></th>\n",
       "      <th>newL1</th>\n",
       "      <th>newL2</th>\n",
       "      <th>newL3</th>\n",
       "      <th>fine_age_groups</th>\n",
       "      <th>age_groups</th>\n",
       "      <th>float_age</th>\n",
       "      <th>Interaction_count</th>\n",
       "      <th>updated_region</th>\n",
       "      <th>mCG/CG_chrL</th>\n",
       "      <th>mCH/CH_chrL</th>\n",
       "      <th>...</th>\n",
       "      <th>pairs_enzymeless_intra1kb</th>\n",
       "      <th>pairs_enzymeless_intra10kb</th>\n",
       "      <th>pairs_enzymeless_intra20kb</th>\n",
       "      <th>pairs_enzymeless_inter</th>\n",
       "      <th>pairs_dup_rate</th>\n",
       "      <th>high_coverage_pairs</th>\n",
       "      <th>allc_input_genome_coverage_dup</th>\n",
       "      <th>allc_input_genome_coverage_dedup</th>\n",
       "      <th>allc_input_mapped_bp_dup</th>\n",
       "      <th>allc_input_mapped_bp_dedup</th>\n",
       "    </tr>\n",
       "    <tr>\n",
       "      <th>ID</th>\n",
       "      <th></th>\n",
       "      <th></th>\n",
       "      <th></th>\n",
       "      <th></th>\n",
       "      <th></th>\n",
       "      <th></th>\n",
       "      <th></th>\n",
       "      <th></th>\n",
       "      <th></th>\n",
       "      <th></th>\n",
       "      <th></th>\n",
       "      <th></th>\n",
       "      <th></th>\n",
       "      <th></th>\n",
       "      <th></th>\n",
       "      <th></th>\n",
       "      <th></th>\n",
       "      <th></th>\n",
       "      <th></th>\n",
       "      <th></th>\n",
       "      <th></th>\n",
       "    </tr>\n",
       "  </thead>\n",
       "  <tbody>\n",
       "    <tr>\n",
       "      <th>20210111-1863-preAb-PFC-B12_A1</th>\n",
       "      <td>Exc</td>\n",
       "      <td>UL</td>\n",
       "      <td>L1-3-CUX2</td>\n",
       "      <td>adult</td>\n",
       "      <td>adult</td>\n",
       "      <td>31.0</td>\n",
       "      <td>101825.0</td>\n",
       "      <td>DFC</td>\n",
       "      <td>NaN</td>\n",
       "      <td>NaN</td>\n",
       "      <td>...</td>\n",
       "      <td>5183.0</td>\n",
       "      <td>4742.0</td>\n",
       "      <td>4499.0</td>\n",
       "      <td>1399.0</td>\n",
       "      <td>0.377175</td>\n",
       "      <td>81.0</td>\n",
       "      <td>44221255.0</td>\n",
       "      <td>44221255.0</td>\n",
       "      <td>45085203.0</td>\n",
       "      <td>45085203.0</td>\n",
       "    </tr>\n",
       "  </tbody>\n",
       "</table>\n",
       "<p>1 rows × 91 columns</p>\n",
       "</div>"
      ],
      "text/plain": [
       "                               newL1 newL2      newL3 fine_age_groups  \\\n",
       "ID                                                                      \n",
       "20210111-1863-preAb-PFC-B12_A1   Exc    UL  L1-3-CUX2           adult   \n",
       "\n",
       "                               age_groups  float_age  Interaction_count  \\\n",
       "ID                                                                        \n",
       "20210111-1863-preAb-PFC-B12_A1      adult       31.0           101825.0   \n",
       "\n",
       "                               updated_region  mCG/CG_chrL  mCH/CH_chrL  ...  \\\n",
       "ID                                                                       ...   \n",
       "20210111-1863-preAb-PFC-B12_A1            DFC          NaN          NaN  ...   \n",
       "\n",
       "                                pairs_enzymeless_intra1kb  \\\n",
       "ID                                                          \n",
       "20210111-1863-preAb-PFC-B12_A1                     5183.0   \n",
       "\n",
       "                                pairs_enzymeless_intra10kb  \\\n",
       "ID                                                           \n",
       "20210111-1863-preAb-PFC-B12_A1                      4742.0   \n",
       "\n",
       "                               pairs_enzymeless_intra20kb  \\\n",
       "ID                                                          \n",
       "20210111-1863-preAb-PFC-B12_A1                     4499.0   \n",
       "\n",
       "                               pairs_enzymeless_inter pairs_dup_rate  \\\n",
       "ID                                                                     \n",
       "20210111-1863-preAb-PFC-B12_A1                 1399.0       0.377175   \n",
       "\n",
       "                               high_coverage_pairs  \\\n",
       "ID                                                   \n",
       "20210111-1863-preAb-PFC-B12_A1                81.0   \n",
       "\n",
       "                               allc_input_genome_coverage_dup  \\\n",
       "ID                                                              \n",
       "20210111-1863-preAb-PFC-B12_A1                     44221255.0   \n",
       "\n",
       "                               allc_input_genome_coverage_dedup  \\\n",
       "ID                                                                \n",
       "20210111-1863-preAb-PFC-B12_A1                       44221255.0   \n",
       "\n",
       "                               allc_input_mapped_bp_dup  \\\n",
       "ID                                                        \n",
       "20210111-1863-preAb-PFC-B12_A1               45085203.0   \n",
       "\n",
       "                               allc_input_mapped_bp_dedup  \n",
       "ID                                                         \n",
       "20210111-1863-preAb-PFC-B12_A1                 45085203.0  \n",
       "\n",
       "[1 rows x 91 columns]"
      ]
     },
     "execution_count": 4,
     "metadata": {},
     "output_type": "execute_result"
    }
   ],
   "source": [
    "# read in csv file\n",
    "cell_type = pd.read_csv(\"/u/project/cluo/heffel/BICAN3/Annotate/metadata_09122025.csv.gz\").set_index(\"ID\")\n",
    "cell_type.head(1)"
   ]
  },
  {
   "cell_type": "code",
   "execution_count": 5,
   "metadata": {},
   "outputs": [
    {
     "data": {
      "text/html": [
       "<div>\n",
       "<style scoped>\n",
       "    .dataframe tbody tr th:only-of-type {\n",
       "        vertical-align: middle;\n",
       "    }\n",
       "\n",
       "    .dataframe tbody tr th {\n",
       "        vertical-align: top;\n",
       "    }\n",
       "\n",
       "    .dataframe thead th {\n",
       "        text-align: right;\n",
       "    }\n",
       "</style>\n",
       "<table border=\"1\" class=\"dataframe\">\n",
       "  <thead>\n",
       "    <tr style=\"text-align: right;\">\n",
       "      <th></th>\n",
       "      <th>L2</th>\n",
       "    </tr>\n",
       "  </thead>\n",
       "  <tbody>\n",
       "    <tr>\n",
       "      <th>20210505-UMB5577-preAb-PFC-A09-L1_A1</th>\n",
       "      <td>MGE</td>\n",
       "    </tr>\n",
       "  </tbody>\n",
       "</table>\n",
       "</div>"
      ],
      "text/plain": [
       "                                       L2\n",
       "20210505-UMB5577-preAb-PFC-A09-L1_A1  MGE"
      ]
     },
     "execution_count": 5,
     "metadata": {},
     "output_type": "execute_result"
    }
   ],
   "source": [
    "covdata.obs[\"L2\"] = cell_type[\"newL2\"]\n",
    "cell_type = pd.DataFrame(covdata.obs[\"L2\"])\n",
    "cell_type.head(1)"
   ]
  },
  {
   "cell_type": "code",
   "execution_count": 6,
   "metadata": {},
   "outputs": [],
   "source": [
    "no_cell_type = cell_type[cell_type[\"L2\"].isna()].index"
   ]
  },
  {
   "cell_type": "code",
   "execution_count": 7,
   "metadata": {},
   "outputs": [],
   "source": [
    "# drop rows w no cell type\n",
    "covdf = covdf.drop(index=no_cell_type)\n",
    "countsdf = countsdf.drop(index=no_cell_type)"
   ]
  },
  {
   "cell_type": "markdown",
   "metadata": {},
   "source": [
    "## filter by mean feature coverage"
   ]
  },
  {
   "cell_type": "code",
   "execution_count": 8,
   "metadata": {},
   "outputs": [
    {
     "data": {
      "text/plain": [
       "20210505-UMB5577-preAb-PFC-A09-L1_A1    6.112561\n",
       "dtype: float64"
      ]
     },
     "execution_count": 8,
     "metadata": {},
     "output_type": "execute_result"
    }
   ],
   "source": [
    "mean_cell_cov = covdf.mean(axis=1) # Series of mean cell coverage\n",
    "mean_cell_cov.head(1)"
   ]
  },
  {
   "cell_type": "code",
   "execution_count": 9,
   "metadata": {},
   "outputs": [
    {
     "data": {
      "text/plain": [
       "(0.0, 20.0)"
      ]
     },
     "execution_count": 9,
     "metadata": {},
     "output_type": "execute_result"
    },
    {
     "data": {
      "image/png": "[encoded data removed]",
      "text/plain": [
       "<Figure size 500x500 with 1 Axes>"
      ]
     },
     "metadata": {},
     "output_type": "display_data"
    }
   ],
   "source": [
    "# plot mean cell coverage\n",
    "sns.displot(mean_cell_cov, kde=True, binwidth=2, color='pink')\n",
    "plt.xlim(left=0, right=20)"
   ]
  },
  {
   "cell_type": "code",
   "execution_count": 10,
   "metadata": {},
   "outputs": [
    {
     "data": {
      "text/plain": [
       "geneslop2k\n",
       "ENSG00000228794.12    1.169029\n",
       "dtype: float64"
      ]
     },
     "execution_count": 10,
     "metadata": {},
     "output_type": "execute_result"
    }
   ],
   "source": [
    "mean_feat_cov = covdf.mean(axis=0) # Series of mean feature coverage\n",
    "mean_feat_cov.head(1)"
   ]
  },
  {
   "cell_type": "code",
   "execution_count": 11,
   "metadata": {},
   "outputs": [
    {
     "data": {
      "text/plain": [
       "(-5.0, 50.0)"
      ]
     },
     "execution_count": 11,
     "metadata": {},
     "output_type": "execute_result"
    },
    {
     "data": {
      "image/png": "[encoded data removed]",
      "text/plain": [
       "<Figure size 500x500 with 1 Axes>"
      ]
     },
     "metadata": {},
     "output_type": "display_data"
    }
   ],
   "source": [
    "# plot mean feature coverage\n",
    "sns.displot(mean_feat_cov, kde=True, binwidth=2, color='lightgreen')\n",
    "plt.xlim(left=-5, right=50)"
   ]
  },
  {
   "cell_type": "code",
   "execution_count": 12,
   "metadata": {},
   "outputs": [
    {
     "data": {
      "text/html": [
       "<div>\n",
       "<style scoped>\n",
       "    .dataframe tbody tr th:only-of-type {\n",
       "        vertical-align: middle;\n",
       "    }\n",
       "\n",
       "    .dataframe tbody tr th {\n",
       "        vertical-align: top;\n",
       "    }\n",
       "\n",
       "    .dataframe thead th {\n",
       "        text-align: right;\n",
       "    }\n",
       "</style>\n",
       "<table border=\"1\" class=\"dataframe\">\n",
       "  <thead>\n",
       "    <tr style=\"text-align: right;\">\n",
       "      <th></th>\n",
       "      <th>0</th>\n",
       "    </tr>\n",
       "    <tr>\n",
       "      <th>geneslop2k</th>\n",
       "      <th></th>\n",
       "    </tr>\n",
       "  </thead>\n",
       "  <tbody>\n",
       "    <tr>\n",
       "      <th>ENSG00000228794.12</th>\n",
       "      <td>1.169029</td>\n",
       "    </tr>\n",
       "  </tbody>\n",
       "</table>\n",
       "</div>"
      ],
      "text/plain": [
       "                           0\n",
       "geneslop2k                  \n",
       "ENSG00000228794.12  1.169029"
      ]
     },
     "execution_count": 12,
     "metadata": {},
     "output_type": "execute_result"
    }
   ],
   "source": [
    "# create DataFrame from the mean feature coverage Series\n",
    "mean_feat_cov = pd.DataFrame(mean_feat_cov)\n",
    "mean_feat_cov.head(1)"
   ]
  },
  {
   "cell_type": "code",
   "execution_count": 13,
   "metadata": {},
   "outputs": [],
   "source": [
    "# create a threshold list which indexes all features with mean coverage < 50\n",
    "threshold = mean_feat_cov[mean_feat_cov[0] < 50].index"
   ]
  },
  {
   "cell_type": "code",
   "execution_count": 14,
   "metadata": {},
   "outputs": [
    {
     "data": {
      "text/plain": [
       "(4798, 819)"
      ]
     },
     "execution_count": 14,
     "metadata": {},
     "output_type": "execute_result"
    }
   ],
   "source": [
    "# drop columns according to threshold\n",
    "covdf = covdf.drop(columns=threshold)\n",
    "countsdf = countsdf.drop(columns=threshold)\n",
    "\n",
    "covdf.shape # need ~5-10x as many cells as features (bc of dimensionality issues), so work with 670 features for now. "
   ]
  },
  {
   "cell_type": "code",
   "execution_count": 15,
   "metadata": {},
   "outputs": [
    {
     "data": {
      "text/plain": [
       "<seaborn.axisgrid.FacetGrid at 0x2b0476fea210>"
      ]
     },
     "execution_count": 15,
     "metadata": {},
     "output_type": "execute_result"
    },
    {
     "data": {
      "image/png": "[encoded data removed]",
      "text/plain": [
       "<Figure size 500x500 with 1 Axes>"
      ]
     },
     "metadata": {},
     "output_type": "display_data"
    }
   ],
   "source": [
    "sns.displot(covdf.mean(axis=0), binwidth=10, color=\"lightblue\", kde=True) # distribution of feature coverage after filtering"
   ]
  },
  {
   "cell_type": "markdown",
   "metadata": {},
   "source": [
    "## plot feature mean x gene length"
   ]
  },
  {
   "cell_type": "code",
   "execution_count": 16,
   "metadata": {},
   "outputs": [
    {
     "data": {
      "text/html": [
       "<div>\n",
       "<style scoped>\n",
       "    .dataframe tbody tr th:only-of-type {\n",
       "        vertical-align: middle;\n",
       "    }\n",
       "\n",
       "    .dataframe tbody tr th {\n",
       "        vertical-align: top;\n",
       "    }\n",
       "\n",
       "    .dataframe thead th {\n",
       "        text-align: right;\n",
       "    }\n",
       "</style>\n",
       "<table border=\"1\" class=\"dataframe\">\n",
       "  <thead>\n",
       "    <tr style=\"text-align: right;\">\n",
       "      <th></th>\n",
       "      <th>#chr</th>\n",
       "      <th>start</th>\n",
       "      <th>end</th>\n",
       "      <th>gene</th>\n",
       "    </tr>\n",
       "  </thead>\n",
       "  <tbody>\n",
       "    <tr>\n",
       "      <th>0</th>\n",
       "      <td>chr1</td>\n",
       "      <td>9868</td>\n",
       "      <td>16409</td>\n",
       "      <td>ENSG00000290825.1</td>\n",
       "    </tr>\n",
       "  </tbody>\n",
       "</table>\n",
       "</div>"
      ],
      "text/plain": [
       "   #chr  start    end               gene\n",
       "0  chr1   9868  16409  ENSG00000290825.1"
      ]
     },
     "execution_count": 16,
     "metadata": {},
     "output_type": "execute_result"
    }
   ],
   "source": [
    "# read in csv file\n",
    "gene_length = pd.read_csv(\"/u/project/cluo/heffel/BICAN/ref/geneslop2k.bed\", sep=\"\\t\")\n",
    "gene_length.head(1)"
   ]
  },
  {
   "cell_type": "code",
   "execution_count": 17,
   "metadata": {},
   "outputs": [
    {
     "data": {
      "text/html": [
       "<div>\n",
       "<style scoped>\n",
       "    .dataframe tbody tr th:only-of-type {\n",
       "        vertical-align: middle;\n",
       "    }\n",
       "\n",
       "    .dataframe tbody tr th {\n",
       "        vertical-align: top;\n",
       "    }\n",
       "\n",
       "    .dataframe thead th {\n",
       "        text-align: right;\n",
       "    }\n",
       "</style>\n",
       "<table border=\"1\" class=\"dataframe\">\n",
       "  <thead>\n",
       "    <tr style=\"text-align: right;\">\n",
       "      <th></th>\n",
       "      <th>#chr</th>\n",
       "      <th>start</th>\n",
       "      <th>end</th>\n",
       "    </tr>\n",
       "    <tr>\n",
       "      <th>gene</th>\n",
       "      <th></th>\n",
       "      <th></th>\n",
       "      <th></th>\n",
       "    </tr>\n",
       "  </thead>\n",
       "  <tbody>\n",
       "    <tr>\n",
       "      <th>ENSG00000290825.1</th>\n",
       "      <td>chr1</td>\n",
       "      <td>9868</td>\n",
       "      <td>16409</td>\n",
       "    </tr>\n",
       "  </tbody>\n",
       "</table>\n",
       "</div>"
      ],
      "text/plain": [
       "                   #chr  start    end\n",
       "gene                                 \n",
       "ENSG00000290825.1  chr1   9868  16409"
      ]
     },
     "execution_count": 17,
     "metadata": {},
     "output_type": "execute_result"
    }
   ],
   "source": [
    "# set index as the gene name\n",
    "gene_length = gene_length.set_index(\"gene\")\n",
    "gene_length.head(1)"
   ]
  },
  {
   "cell_type": "code",
   "execution_count": 18,
   "metadata": {},
   "outputs": [
    {
     "data": {
      "text/html": [
       "<div>\n",
       "<style scoped>\n",
       "    .dataframe tbody tr th:only-of-type {\n",
       "        vertical-align: middle;\n",
       "    }\n",
       "\n",
       "    .dataframe tbody tr th {\n",
       "        vertical-align: top;\n",
       "    }\n",
       "\n",
       "    .dataframe thead th {\n",
       "        text-align: right;\n",
       "    }\n",
       "</style>\n",
       "<table border=\"1\" class=\"dataframe\">\n",
       "  <thead>\n",
       "    <tr style=\"text-align: right;\">\n",
       "      <th></th>\n",
       "      <th>#chr</th>\n",
       "      <th>start</th>\n",
       "      <th>end</th>\n",
       "      <th>length</th>\n",
       "    </tr>\n",
       "    <tr>\n",
       "      <th>gene</th>\n",
       "      <th></th>\n",
       "      <th></th>\n",
       "      <th></th>\n",
       "      <th></th>\n",
       "    </tr>\n",
       "  </thead>\n",
       "  <tbody>\n",
       "    <tr>\n",
       "      <th>ENSG00000290825.1</th>\n",
       "      <td>chr1</td>\n",
       "      <td>9868</td>\n",
       "      <td>16409</td>\n",
       "      <td>6541</td>\n",
       "    </tr>\n",
       "  </tbody>\n",
       "</table>\n",
       "</div>"
      ],
      "text/plain": [
       "                   #chr  start    end  length\n",
       "gene                                         \n",
       "ENSG00000290825.1  chr1   9868  16409    6541"
      ]
     },
     "execution_count": 18,
     "metadata": {},
     "output_type": "execute_result"
    }
   ],
   "source": [
    "# create a new column \"length\" that has the length (end - start)\n",
    "gene_length[\"length\"] = gene_length[\"end\"] - gene_length[\"start\"]\n",
    "gene_length.head(1)"
   ]
  },
  {
   "cell_type": "code",
   "execution_count": 19,
   "metadata": {},
   "outputs": [
    {
     "data": {
      "text/html": [
       "<div>\n",
       "<style scoped>\n",
       "    .dataframe tbody tr th:only-of-type {\n",
       "        vertical-align: middle;\n",
       "    }\n",
       "\n",
       "    .dataframe tbody tr th {\n",
       "        vertical-align: top;\n",
       "    }\n",
       "\n",
       "    .dataframe thead th {\n",
       "        text-align: right;\n",
       "    }\n",
       "</style>\n",
       "<table border=\"1\" class=\"dataframe\">\n",
       "  <thead>\n",
       "    <tr style=\"text-align: right;\">\n",
       "      <th></th>\n",
       "      <th>#chr</th>\n",
       "      <th>start</th>\n",
       "      <th>end</th>\n",
       "      <th>length</th>\n",
       "    </tr>\n",
       "    <tr>\n",
       "      <th>gene</th>\n",
       "      <th></th>\n",
       "      <th></th>\n",
       "      <th></th>\n",
       "      <th></th>\n",
       "    </tr>\n",
       "  </thead>\n",
       "  <tbody>\n",
       "    <tr>\n",
       "      <th>ENSG00000290825.1</th>\n",
       "      <td>chr1</td>\n",
       "      <td>9868</td>\n",
       "      <td>16409</td>\n",
       "      <td>6541</td>\n",
       "    </tr>\n",
       "    <tr>\n",
       "      <th>ENSG00000223972.6</th>\n",
       "      <td>chr1</td>\n",
       "      <td>10009</td>\n",
       "      <td>15670</td>\n",
       "      <td>5661</td>\n",
       "    </tr>\n",
       "    <tr>\n",
       "      <th>WASH7P</th>\n",
       "      <td>chr1</td>\n",
       "      <td>12403</td>\n",
       "      <td>31570</td>\n",
       "      <td>19167</td>\n",
       "    </tr>\n",
       "    <tr>\n",
       "      <th>MIR6859-1</th>\n",
       "      <td>chr1</td>\n",
       "      <td>15368</td>\n",
       "      <td>19436</td>\n",
       "      <td>4068</td>\n",
       "    </tr>\n",
       "    <tr>\n",
       "      <th>MIR1302-2HG</th>\n",
       "      <td>chr1</td>\n",
       "      <td>27553</td>\n",
       "      <td>33109</td>\n",
       "      <td>5556</td>\n",
       "    </tr>\n",
       "  </tbody>\n",
       "</table>\n",
       "</div>"
      ],
      "text/plain": [
       "                   #chr  start    end  length\n",
       "gene                                         \n",
       "ENSG00000290825.1  chr1   9868  16409    6541\n",
       "ENSG00000223972.6  chr1  10009  15670    5661\n",
       "WASH7P             chr1  12403  31570   19167\n",
       "MIR6859-1          chr1  15368  19436    4068\n",
       "MIR1302-2HG        chr1  27553  33109    5556"
      ]
     },
     "execution_count": 19,
     "metadata": {},
     "output_type": "execute_result"
    }
   ],
   "source": [
    "# create readable gene ID's (ie: FAM41C as opposed to ENSG00000230368.2)\n",
    "conv_table = pd.read_csv(\"/u/project/cluo/heffel/BICAN/ensg_to_symbol.tsv\", sep=\"\\\\t\").set_index(\"ENSG\").to_dict()[\"Symbol\"]\n",
    "\n",
    "# copy gene ID's to gene_length\n",
    "gene_length.index = gene_length.index.map(lambda x: conv_table.get(x, x))\n",
    "gene_length.head()"
   ]
  },
  {
   "cell_type": "code",
   "execution_count": 20,
   "metadata": {},
   "outputs": [
    {
     "data": {
      "text/html": [
       "<div>\n",
       "<style scoped>\n",
       "    .dataframe tbody tr th:only-of-type {\n",
       "        vertical-align: middle;\n",
       "    }\n",
       "\n",
       "    .dataframe tbody tr th {\n",
       "        vertical-align: top;\n",
       "    }\n",
       "\n",
       "    .dataframe thead th {\n",
       "        text-align: right;\n",
       "    }\n",
       "</style>\n",
       "<table border=\"1\" class=\"dataframe\">\n",
       "  <thead>\n",
       "    <tr style=\"text-align: right;\">\n",
       "      <th></th>\n",
       "      <th>mean</th>\n",
       "    </tr>\n",
       "    <tr>\n",
       "      <th>geneslop2k</th>\n",
       "      <th></th>\n",
       "    </tr>\n",
       "  </thead>\n",
       "  <tbody>\n",
       "    <tr>\n",
       "      <th>PRKCZ</th>\n",
       "      <td>82.694873</td>\n",
       "    </tr>\n",
       "  </tbody>\n",
       "</table>\n",
       "</div>"
      ],
      "text/plain": [
       "                 mean\n",
       "geneslop2k           \n",
       "PRKCZ       82.694873"
      ]
     },
     "execution_count": 20,
     "metadata": {},
     "output_type": "execute_result"
    }
   ],
   "source": [
    "gene_mean = covdf.mean() # caclulate mean methylation for each gene\n",
    "gene_mean = pd.DataFrame(gene_mean) # turn Series into DataFrame\n",
    "gene_mean = gene_mean.rename(columns={0: \"mean\"}) # rename column zero to mean\n",
    "gene_mean.head(1)"
   ]
  },
  {
   "cell_type": "code",
   "execution_count": 21,
   "metadata": {},
   "outputs": [
    {
     "data": {
      "text/html": [
       "<div>\n",
       "<style scoped>\n",
       "    .dataframe tbody tr th:only-of-type {\n",
       "        vertical-align: middle;\n",
       "    }\n",
       "\n",
       "    .dataframe tbody tr th {\n",
       "        vertical-align: top;\n",
       "    }\n",
       "\n",
       "    .dataframe thead th {\n",
       "        text-align: right;\n",
       "    }\n",
       "</style>\n",
       "<table border=\"1\" class=\"dataframe\">\n",
       "  <thead>\n",
       "    <tr style=\"text-align: right;\">\n",
       "      <th></th>\n",
       "      <th>#chr</th>\n",
       "      <th>start</th>\n",
       "      <th>end</th>\n",
       "      <th>length</th>\n",
       "    </tr>\n",
       "  </thead>\n",
       "  <tbody>\n",
       "    <tr>\n",
       "      <th>ENSG00000188511.14</th>\n",
       "      <td>chr22</td>\n",
       "      <td>49412523</td>\n",
       "      <td>49659542</td>\n",
       "      <td>247019</td>\n",
       "    </tr>\n",
       "  </tbody>\n",
       "</table>\n",
       "</div>"
      ],
      "text/plain": [
       "                     #chr     start       end  length\n",
       "ENSG00000188511.14  chr22  49412523  49659542  247019"
      ]
     },
     "execution_count": 21,
     "metadata": {},
     "output_type": "execute_result"
    }
   ],
   "source": [
    "# find the common indices\n",
    "common_indices = gene_length.index.intersection(gene_mean.index)\n",
    "\n",
    "# filter gene_length using the common indices\n",
    "gene_length = gene_length.loc[common_indices]\n",
    "gene_length.tail(1)"
   ]
  },
  {
   "cell_type": "code",
   "execution_count": 22,
   "metadata": {},
   "outputs": [
    {
     "data": {
      "text/plain": [
       "np.True_"
      ]
     },
     "execution_count": 22,
     "metadata": {},
     "output_type": "execute_result"
    }
   ],
   "source": [
    "(gene_mean.index == gene_length.index).all() # check that indices match"
   ]
  },
  {
   "cell_type": "code",
   "execution_count": 23,
   "metadata": {},
   "outputs": [
    {
     "data": {
      "text/html": [
       "<div>\n",
       "<style scoped>\n",
       "    .dataframe tbody tr th:only-of-type {\n",
       "        vertical-align: middle;\n",
       "    }\n",
       "\n",
       "    .dataframe tbody tr th {\n",
       "        vertical-align: top;\n",
       "    }\n",
       "\n",
       "    .dataframe thead th {\n",
       "        text-align: right;\n",
       "    }\n",
       "</style>\n",
       "<table border=\"1\" class=\"dataframe\">\n",
       "  <thead>\n",
       "    <tr style=\"text-align: right;\">\n",
       "      <th></th>\n",
       "      <th>mean</th>\n",
       "      <th>length</th>\n",
       "    </tr>\n",
       "    <tr>\n",
       "      <th>geneslop2k</th>\n",
       "      <th></th>\n",
       "      <th></th>\n",
       "    </tr>\n",
       "  </thead>\n",
       "  <tbody>\n",
       "    <tr>\n",
       "      <th>PRKCZ</th>\n",
       "      <td>82.694873</td>\n",
       "      <td>138985</td>\n",
       "    </tr>\n",
       "  </tbody>\n",
       "</table>\n",
       "</div>"
      ],
      "text/plain": [
       "                 mean  length\n",
       "geneslop2k                   \n",
       "PRKCZ       82.694873  138985"
      ]
     },
     "execution_count": 23,
     "metadata": {},
     "output_type": "execute_result"
    }
   ],
   "source": [
    "# add gene length to the gene mean DataFrame\n",
    "gene_mean[\"length\"] = gene_length[\"length\"].reindex(gene_mean.index)\n",
    "gene_mean.head(1)"
   ]
  },
  {
   "cell_type": "code",
   "execution_count": 24,
   "metadata": {},
   "outputs": [
    {
     "data": {
      "text/plain": [
       "<Axes: xlabel='length', ylabel='mean'>"
      ]
     },
     "execution_count": 24,
     "metadata": {},
     "output_type": "execute_result"
    },
    {
     "data": {
      "image/png": "[encoded data removed]",
      "text/plain": [
       "<Figure size 400x400 with 1 Axes>"
      ]
     },
     "metadata": {},
     "output_type": "display_data"
    }
   ],
   "source": [
    "# scatter plot\n",
    "sns.scatterplot(data=gene_mean, x=\"length\", y=\"mean\", alpha=0.2, s=15, color=\"green\", legend=False)"
   ]
  },
  {
   "cell_type": "markdown",
   "metadata": {},
   "source": [
    "## masks"
   ]
  },
  {
   "cell_type": "code",
   "execution_count": 25,
   "metadata": {},
   "outputs": [
    {
     "name": "stdout",
     "output_type": "stream",
     "text": [
      "005: 3,915,754, 99.65% with >5 coverage values (0.35% data to be imputed)\n",
      "010: 3,909,688, 99.49% with >10 coverage values (0.51% data to be imputed)\n",
      "025: 3,808,074, 96.91% with >25 coverage values (3.09% data to be imputed)\n",
      "050: 2,918,539, 74.27% with >50 coverage values (25.73% data to be imputed)\n",
      "055: 2,657,356, 67.62% with >55 coverage values (32.38% data to be imputed)\n",
      "060: 2,396,602, 60.99% with >60 coverage values (39.01% data to be imputed)\n",
      "070: 1,910,775, 48.63% with >70 coverage values (51.37% data to be imputed)\n",
      "075: 1,694,135, 43.11% with >75 coverage values (56.89% data to be imputed)\n",
      "100: 914,461, 23.27% with >100 coverage values (76.73% data to be imputed)\n",
      "150: 300,807, 7.65% with >150 coverage values (92.35% data to be imputed)\n",
      "200: 122,919, 3.13% with >200 coverage values (96.87% data to be imputed)\n"
     ]
    }
   ],
   "source": [
    "# dict data = {\"name\": [list, list], }\n",
    "low_cov = [5, 10, 25, 50, 55, 60, 70, 75, 100, 150, 200] # list of coverage thresholds\n",
    "\n",
    "count_ls = []\n",
    "percent_ls = []\n",
    "\n",
    "for i in low_cov:\n",
    "    mask = covdf < i # mask of positions with coverage < i\n",
    "    count = covdf[mask].isna().sum().sum() # count number positions w coverage >= i\n",
    "    percent = (count / (covdf.shape[0] * covdf.shape[1])) # percent positions w coverage >= i\n",
    "    \n",
    "    mask.to_parquet(f'mask{i:03d}.parquet') # save mask\n",
    "    \n",
    "    count_ls.append(count) # append count to the count list\n",
    "    percent_ls.append(percent) # append percent to the percent list\n",
    "    \n",
    "    print(f\"{i:03d} {count:,>3}, {percent:.2%>3} with >={i} coverage values ({1 - percent:.2%} data to be imputed)\")"
   ]
  },
  {
   "cell_type": "code",
   "execution_count": 26,
   "metadata": {},
   "outputs": [],
   "source": [
    "info = {\"threshold\": low_cov, \"counts\": count_ls, \"percent\": percent_ls} # create a dict\n",
    "info = pd.DataFrame(info) # turn dict into df"
   ]
  },
  {
   "cell_type": "code",
   "execution_count": 27,
   "metadata": {},
   "outputs": [
    {
     "data": {
      "text/plain": [
       "<Axes: xlabel='threshold', ylabel='percent'>"
      ]
     },
     "execution_count": 27,
     "metadata": {},
     "output_type": "execute_result"
    },
    {
     "data": {
      "image/png": "[encoded data removed]",
      "text/plain": [
       "<Figure size 400x400 with 1 Axes>"
      ]
     },
     "metadata": {},
     "output_type": "display_data"
    }
   ],
   "source": [
    "sns.barplot(data=info, x=\"threshold\", y=\"percent\") # plot diff thresholds percent of data kept"
   ]
  },
  {
   "cell_type": "markdown",
   "metadata": {},
   "source": [
    "## fractions of gene body methylation"
   ]
  },
  {
   "cell_type": "code",
   "execution_count": 28,
   "metadata": {},
   "outputs": [
    {
     "data": {
      "text/html": [
       "<div>\n",
       "<style scoped>\n",
       "    .dataframe tbody tr th:only-of-type {\n",
       "        vertical-align: middle;\n",
       "    }\n",
       "\n",
       "    .dataframe tbody tr th {\n",
       "        vertical-align: top;\n",
       "    }\n",
       "\n",
       "    .dataframe thead th {\n",
       "        text-align: right;\n",
       "    }\n",
       "</style>\n",
       "<table border=\"1\" class=\"dataframe\">\n",
       "  <thead>\n",
       "    <tr style=\"text-align: right;\">\n",
       "      <th>geneslop2k</th>\n",
       "      <th>PRKCZ</th>\n",
       "      <th>ENSG00000157933.11</th>\n",
       "      <th>PRDM16</th>\n",
       "      <th>ENSG00000162591.17</th>\n",
       "      <th>AJAP1</th>\n",
       "      <th>NPHP4</th>\n",
       "      <th>ENSG00000097021.21</th>\n",
       "      <th>ENSG00000171735.20</th>\n",
       "      <th>ENSG00000142599.20</th>\n",
       "      <th>CASZ1</th>\n",
       "      <th>...</th>\n",
       "      <th>EFCAB6</th>\n",
       "      <th>PARVB</th>\n",
       "      <th>PRR5-ARHGAP8</th>\n",
       "      <th>PHF21B</th>\n",
       "      <th>CELSR1</th>\n",
       "      <th>GRAMD4</th>\n",
       "      <th>TBC1D22A</th>\n",
       "      <th>ENSG00000224271.8</th>\n",
       "      <th>TAFA5</th>\n",
       "      <th>ENSG00000188511.14</th>\n",
       "    </tr>\n",
       "  </thead>\n",
       "  <tbody>\n",
       "    <tr>\n",
       "      <th>20210505-UMB5577-preAb-PFC-A09-L1_A1</th>\n",
       "      <td>0.930233</td>\n",
       "      <td>0.90625</td>\n",
       "      <td>0.902299</td>\n",
       "      <td>0.959459</td>\n",
       "      <td>0.965517</td>\n",
       "      <td>1.0</td>\n",
       "      <td>0.75</td>\n",
       "      <td>0.935961</td>\n",
       "      <td>0.931818</td>\n",
       "      <td>0.704545</td>\n",
       "      <td>...</td>\n",
       "      <td>0.861538</td>\n",
       "      <td>0.791667</td>\n",
       "      <td>0.779412</td>\n",
       "      <td>0.775</td>\n",
       "      <td>0.966667</td>\n",
       "      <td>0.705882</td>\n",
       "      <td>0.947368</td>\n",
       "      <td>0.95122</td>\n",
       "      <td>0.960265</td>\n",
       "      <td>0.958763</td>\n",
       "    </tr>\n",
       "  </tbody>\n",
       "</table>\n",
       "<p>1 rows × 819 columns</p>\n",
       "</div>"
      ],
      "text/plain": [
       "geneslop2k                               PRKCZ  ENSG00000157933.11    PRDM16  \\\n",
       "20210505-UMB5577-preAb-PFC-A09-L1_A1  0.930233             0.90625  0.902299   \n",
       "\n",
       "geneslop2k                            ENSG00000162591.17     AJAP1  NPHP4  \\\n",
       "20210505-UMB5577-preAb-PFC-A09-L1_A1            0.959459  0.965517    1.0   \n",
       "\n",
       "geneslop2k                            ENSG00000097021.21  ENSG00000171735.20  \\\n",
       "20210505-UMB5577-preAb-PFC-A09-L1_A1                0.75            0.935961   \n",
       "\n",
       "geneslop2k                            ENSG00000142599.20     CASZ1  ...  \\\n",
       "20210505-UMB5577-preAb-PFC-A09-L1_A1            0.931818  0.704545  ...   \n",
       "\n",
       "geneslop2k                              EFCAB6     PARVB  PRR5-ARHGAP8  \\\n",
       "20210505-UMB5577-preAb-PFC-A09-L1_A1  0.861538  0.791667      0.779412   \n",
       "\n",
       "geneslop2k                            PHF21B    CELSR1    GRAMD4  TBC1D22A  \\\n",
       "20210505-UMB5577-preAb-PFC-A09-L1_A1   0.775  0.966667  0.705882  0.947368   \n",
       "\n",
       "geneslop2k                            ENSG00000224271.8     TAFA5  \\\n",
       "20210505-UMB5577-preAb-PFC-A09-L1_A1            0.95122  0.960265   \n",
       "\n",
       "geneslop2k                            ENSG00000188511.14  \n",
       "20210505-UMB5577-preAb-PFC-A09-L1_A1            0.958763  \n",
       "\n",
       "[1 rows x 819 columns]"
      ]
     },
     "execution_count": 28,
     "metadata": {},
     "output_type": "execute_result"
    }
   ],
   "source": [
    "frac = countsdf / covdf # divide to get methylation fraction\n",
    "frac.head(1)"
   ]
  },
  {
   "cell_type": "code",
   "execution_count": 29,
   "metadata": {},
   "outputs": [
    {
     "data": {
      "text/plain": [
       "<seaborn.axisgrid.FacetGrid at 0x2b04787dc5d0>"
      ]
     },
     "execution_count": 29,
     "metadata": {},
     "output_type": "execute_result"
    },
    {
     "data": {
      "image/png": "[encoded data removed]",
      "text/plain": [
       "<Figure size 500x500 with 1 Axes>"
      ]
     },
     "metadata": {},
     "output_type": "display_data"
    }
   ],
   "source": [
    "sns.displot(frac.mean(), bins=30, color=\"lavender\") # plot distribution of data"
   ]
  },
  {
   "cell_type": "markdown",
   "metadata": {},
   "source": [
    "## create new AnnData object"
   ]
  },
  {
   "cell_type": "code",
   "execution_count": 30,
   "metadata": {},
   "outputs": [
    {
     "data": {
      "text/plain": [
       "(5618, 53100)"
      ]
     },
     "execution_count": 30,
     "metadata": {},
     "output_type": "execute_result"
    }
   ],
   "source": [
    "len(covdata.obs), len(covdata.var)"
   ]
  },
  {
   "cell_type": "code",
   "execution_count": 31,
   "metadata": {},
   "outputs": [
    {
     "data": {
      "text/plain": [
       "(4798, 819)"
      ]
     },
     "execution_count": 31,
     "metadata": {},
     "output_type": "execute_result"
    }
   ],
   "source": [
    "obs = covdata.obs.drop(no_cell_type) # drop rows for cells without a cell type\n",
    "var = covdata.var.drop(threshold, axis=0) # drop rows according to threshold\n",
    "\n",
    "len(obs), len(var)"
   ]
  },
  {
   "cell_type": "code",
   "execution_count": 32,
   "metadata": {},
   "outputs": [],
   "source": [
    "# create new anndata obj\n",
    "adata = ad.AnnData(X=frac)\n",
    "\n",
    "# copy over the obs & var\n",
    "adata.obs = obs\n",
    "adata.var = var"
   ]
  },
  {
   "cell_type": "code",
   "execution_count": 33,
   "metadata": {},
   "outputs": [],
   "source": [
    "methyl_df = adata.to_df() # new DataFrame"
   ]
  },
  {
   "cell_type": "code",
   "execution_count": 34,
   "metadata": {},
   "outputs": [
    {
     "name": "stdout",
     "output_type": "stream",
     "text": [
      "NaN's:     7651\n",
      "'s:        766\n",
      "cells:     4798\n",
      "features:   819\n"
     ]
    }
   ],
   "source": [
    "print(f\"NaN's:    {adata.to_df().isna().sum().sum():>5}\")\n",
    "print(f\"'s:      {(adata.to_df()==0).sum().sum():>5}\")\n",
    "print(f\"cells:    {adata.shape[0]:>5}\")\n",
    "print(f\"features: {adata.shape[1]:>5}\")"
   ]
  },
  {
   "cell_type": "code",
   "execution_count": 35,
   "metadata": {},
   "outputs": [],
   "source": [
    "adata.write_h5ad(\"mcg_210505_4798x819_qc.h5ad\") # write adata file"
   ]
  }
 ],
 "metadata": {
  "kernelspec": {
   "display_name": "sctorch_env",
   "language": "python",
   "name": "sctorch_env"
  },
  "language_info": {
   "codemirror_mode": {
    "name": "ipython",
    "version": 3
   },
   "file_extension": ".py",
   "mimetype": "text/x-python",
   "name": "python",
   "nbconvert_exporter": "python",
   "pygments_lexer": "ipython3",
   "version": "3.11.13"
  }
 },
 "nbformat": 4,
 "nbformat_minor": 4
}
